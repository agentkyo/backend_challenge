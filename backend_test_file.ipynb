{
 "cells": [
  {
   "cell_type": "code",
   "execution_count": 1,
   "metadata": {},
   "outputs": [],
   "source": [
    "from orm_sqlalchemy import Database"
   ]
  },
  {
   "cell_type": "code",
   "execution_count": 2,
   "metadata": {},
   "outputs": [
    {
     "name": "stderr",
     "output_type": "stream",
     "text": [
      "Role added successfully - df710387-c088-475c-9f85-2d42716de234\n",
      "Session closed - df710387-c088-475c-9f85-2d42716de234\n"
     ]
    },
    {
     "name": "stdout",
     "output_type": "stream",
     "text": [
      "INFO -> 2022-12-07 02:05:50.009125 - Role added successfully - df710387-c088-475c-9f85-2d42716de234\n",
      "INFO -> 2022-12-07 02:05:50.009125 - Session closed - df710387-c088-475c-9f85-2d42716de234\n"
     ]
    },
    {
     "data": {
      "text/plain": [
       "True"
      ]
     },
     "execution_count": 2,
     "metadata": {},
     "output_type": "execute_result"
    }
   ],
   "source": [
    "Database().add_role(\"admin\")\n"
   ]
  },
  {
   "cell_type": "code",
   "execution_count": 3,
   "metadata": {},
   "outputs": [
    {
     "name": "stderr",
     "output_type": "stream",
     "text": [
      "Claim added successfully - 218ca826-6c66-46b0-9c9f-59f265ac48d7\n",
      "Claim added successfully - 218ca826-6c66-46b0-9c9f-59f265ac48d7\n",
      "Session closed - 218ca826-6c66-46b0-9c9f-59f265ac48d7\n",
      "Session closed - 218ca826-6c66-46b0-9c9f-59f265ac48d7\n"
     ]
    },
    {
     "name": "stdout",
     "output_type": "stream",
     "text": [
      "INFO -> 2022-12-07 02:05:50.069123 - Claim added successfully - 218ca826-6c66-46b0-9c9f-59f265ac48d7\n",
      "INFO -> 2022-12-07 02:05:50.070121 - Session closed - 218ca826-6c66-46b0-9c9f-59f265ac48d7\n"
     ]
    },
    {
     "data": {
      "text/plain": [
       "True"
      ]
     },
     "execution_count": 3,
     "metadata": {},
     "output_type": "execute_result"
    }
   ],
   "source": [
    "Database().add_claim(\"master\")"
   ]
  },
  {
   "cell_type": "code",
   "execution_count": 4,
   "metadata": {},
   "outputs": [
    {
     "name": "stderr",
     "output_type": "stream",
     "text": [
      "User added successfully - a00103e6-a8d2-40b1-b32e-237c96fe03a6\n",
      "User added successfully - a00103e6-a8d2-40b1-b32e-237c96fe03a6\n",
      "User added successfully - a00103e6-a8d2-40b1-b32e-237c96fe03a6\n",
      "Session closed - a00103e6-a8d2-40b1-b32e-237c96fe03a6\n",
      "Session closed - a00103e6-a8d2-40b1-b32e-237c96fe03a6\n",
      "Session closed - a00103e6-a8d2-40b1-b32e-237c96fe03a6\n"
     ]
    },
    {
     "name": "stdout",
     "output_type": "stream",
     "text": [
      "INFO -> 2022-12-07 02:05:50.108123 - User added successfully - a00103e6-a8d2-40b1-b32e-237c96fe03a6\n",
      "INFO -> 2022-12-07 02:05:50.110122 - Session closed - a00103e6-a8d2-40b1-b32e-237c96fe03a6\n"
     ]
    },
    {
     "data": {
      "text/plain": [
       "True"
      ]
     },
     "execution_count": 4,
     "metadata": {},
     "output_type": "execute_result"
    }
   ],
   "source": [
    "user_name = 'Caio'\n",
    "useremail = \"caio.silva@shipay.com.br\"\n",
    "roleid = 1\n",
    "password = \"\"\n",
    "\n",
    "Database().add_user(name=user_name, email=useremail, role_id=roleid, password=password)"
   ]
  },
  {
   "cell_type": "code",
   "execution_count": 5,
   "metadata": {},
   "outputs": [
    {
     "name": "stdout",
     "output_type": "stream",
     "text": [
      "[]\n"
     ]
    }
   ],
   "source": [
    "query = Database().question_query(user_name='Caio')\n",
    "\n",
    "print(query)"
   ]
  }
 ],
 "metadata": {
  "kernelspec": {
   "display_name": "Python 3.10.8 64-bit",
   "language": "python",
   "name": "python3"
  },
  "language_info": {
   "codemirror_mode": {
    "name": "ipython",
    "version": 3
   },
   "file_extension": ".py",
   "mimetype": "text/x-python",
   "name": "python",
   "nbconvert_exporter": "python",
   "pygments_lexer": "ipython3",
   "version": "3.10.8"
  },
  "orig_nbformat": 4,
  "vscode": {
   "interpreter": {
    "hash": "1b51a7cbc3379040546a8860659a3b4e54fe592d7fe1875ddece17e3ddc3ebc5"
   }
  }
 },
 "nbformat": 4,
 "nbformat_minor": 2
}
